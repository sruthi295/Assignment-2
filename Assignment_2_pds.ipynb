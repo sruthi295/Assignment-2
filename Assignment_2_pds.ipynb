{
  "nbformat": 4,
  "nbformat_minor": 0,
  "metadata": {
    "colab": {
      "provenance": []
    },
    "kernelspec": {
      "name": "python3",
      "display_name": "Python 3"
    },
    "language_info": {
      "name": "python"
    }
  },
  "cells": [
    {
      "cell_type": "code",
      "execution_count": 33,
      "metadata": {
        "id": "5tw3GeEwGu9U"
      },
      "outputs": [],
      "source": [
        "import pandas as pd\n",
        "import numpy as np\n",
        "\n",
        "# Load the dataset\n",
        "df = pd.read_csv(\"train.csv\")\n"
      ]
    },
    {
      "cell_type": "markdown",
      "source": [
        "Look for the missing values in all the columns and either impute them (replace with mean, median, or mode) or drop them. Justify your action for this task."
      ],
      "metadata": {
        "id": "hTYhaYSvLkNc"
      }
    },
    {
      "cell_type": "code",
      "source": [
        "# Helper function to extract numeric part from strings\n",
        "def extract_numeric(series):\n",
        "    return pd.to_numeric(series.str.extract(r'([\\d.]+)')[0], errors='coerce')\n",
        "\n",
        "# Clean and convert string columns with units to numeric\n",
        "df['Mileage'] = extract_numeric(df['Mileage'])\n",
        "df['Engine'] = extract_numeric(df['Engine'])\n",
        "df['Power'] = extract_numeric(df['Power'])\n",
        "\n",
        "# Impute missing values\n",
        "df['Mileage'].fillna(df['Mileage'].median(), inplace=True)\n",
        "df['Engine'].fillna(df['Engine'].median(), inplace=True)\n",
        "df['Power'].fillna(df['Power'].median(), inplace=True)\n",
        "df['Seats'].fillna(df['Seats'].mode()[0], inplace=True)\n",
        "\n",
        "\n",
        "# Final check for any remaining missing values\n",
        "print(\"Total missing values:\", df.isnull().sum().sum())"
      ],
      "metadata": {
        "colab": {
          "base_uri": "https://localhost:8080/"
        },
        "id": "eP6u4OgALkiF",
        "outputId": "fd5478fd-d73c-4576-e9ff-e527ac1090c2"
      },
      "execution_count": 34,
      "outputs": [
        {
          "output_type": "stream",
          "name": "stdout",
          "text": [
            "Total missing values: 5032\n"
          ]
        },
        {
          "output_type": "stream",
          "name": "stderr",
          "text": [
            "<ipython-input-34-3a7589b20ef4>:11: FutureWarning: A value is trying to be set on a copy of a DataFrame or Series through chained assignment using an inplace method.\n",
            "The behavior will change in pandas 3.0. This inplace method will never work because the intermediate object on which we are setting values always behaves as a copy.\n",
            "\n",
            "For example, when doing 'df[col].method(value, inplace=True)', try using 'df.method({col: value}, inplace=True)' or df[col] = df[col].method(value) instead, to perform the operation inplace on the original object.\n",
            "\n",
            "\n",
            "  df['Mileage'].fillna(df['Mileage'].median(), inplace=True)\n",
            "<ipython-input-34-3a7589b20ef4>:12: FutureWarning: A value is trying to be set on a copy of a DataFrame or Series through chained assignment using an inplace method.\n",
            "The behavior will change in pandas 3.0. This inplace method will never work because the intermediate object on which we are setting values always behaves as a copy.\n",
            "\n",
            "For example, when doing 'df[col].method(value, inplace=True)', try using 'df.method({col: value}, inplace=True)' or df[col] = df[col].method(value) instead, to perform the operation inplace on the original object.\n",
            "\n",
            "\n",
            "  df['Engine'].fillna(df['Engine'].median(), inplace=True)\n",
            "<ipython-input-34-3a7589b20ef4>:13: FutureWarning: A value is trying to be set on a copy of a DataFrame or Series through chained assignment using an inplace method.\n",
            "The behavior will change in pandas 3.0. This inplace method will never work because the intermediate object on which we are setting values always behaves as a copy.\n",
            "\n",
            "For example, when doing 'df[col].method(value, inplace=True)', try using 'df.method({col: value}, inplace=True)' or df[col] = df[col].method(value) instead, to perform the operation inplace on the original object.\n",
            "\n",
            "\n",
            "  df['Power'].fillna(df['Power'].median(), inplace=True)\n",
            "<ipython-input-34-3a7589b20ef4>:14: FutureWarning: A value is trying to be set on a copy of a DataFrame or Series through chained assignment using an inplace method.\n",
            "The behavior will change in pandas 3.0. This inplace method will never work because the intermediate object on which we are setting values always behaves as a copy.\n",
            "\n",
            "For example, when doing 'df[col].method(value, inplace=True)', try using 'df.method({col: value}, inplace=True)' or df[col] = df[col].method(value) instead, to perform the operation inplace on the original object.\n",
            "\n",
            "\n",
            "  df['Seats'].fillna(df['Seats'].mode()[0], inplace=True)\n"
          ]
        }
      ]
    },
    {
      "cell_type": "markdown",
      "source": [
        "b) Remove the units from some of the attributes and only keep the numerical values (for example remove kmpl from “Mileage”, CC from “Engine”, bhp from “Power”, and lakh from “New_price”)"
      ],
      "metadata": {
        "id": "jDwOtUHXL3_J"
      }
    },
    {
      "cell_type": "code",
      "source": [
        "def extract_numeric(series):\n",
        "    return series.astype(str).str.extract(r'(\\d+\\.?\\d*)')[0].astype(float)"
      ],
      "metadata": {
        "id": "OP6gtWvmMFzx"
      },
      "execution_count": 35,
      "outputs": []
    },
    {
      "cell_type": "code",
      "source": [
        "def extract_numeric(series):\n",
        "    return series.apply(lambda x: float(str(x).split()[0]) if pd.notnull(x) and str(x).strip() != '' else None)"
      ],
      "metadata": {
        "id": "1vRKKnCBNATz"
      },
      "execution_count": 36,
      "outputs": []
    },
    {
      "cell_type": "code",
      "source": [
        "df['Mileage'] = extract_numeric(df['Mileage'])\n",
        "df['Engine'] = extract_numeric(df['Engine'])\n",
        "df['Power'] = extract_numeric(df['Power'])\n",
        "df['New_Price'] = df['New_Price'].str.replace(' Lakh', '', regex=False)\n",
        "df['New_Price'] = pd.to_numeric(df['New_Price'], errors='coerce') * 100000  # Convert lakh to rupees\n",
        "\n"
      ],
      "metadata": {
        "id": "EDdlUWb6NEHy"
      },
      "execution_count": 37,
      "outputs": []
    },
    {
      "cell_type": "code",
      "source": [
        "print(df.columns.tolist())\n"
      ],
      "metadata": {
        "colab": {
          "base_uri": "https://localhost:8080/"
        },
        "id": "PsLjt56FNFLM",
        "outputId": "57b5033e-1a7b-45d7-9484-31cabc6dcebd"
      },
      "execution_count": 38,
      "outputs": [
        {
          "output_type": "stream",
          "name": "stdout",
          "text": [
            "['Unnamed: 0', 'Name', 'Location', 'Year', 'Kilometers_Driven', 'Fuel_Type', 'Transmission', 'Owner_Type', 'Mileage', 'Engine', 'Power', 'Seats', 'New_Price', 'Price']\n"
          ]
        }
      ]
    },
    {
      "cell_type": "markdown",
      "source": [
        "C) Change the categorical variables (“Fuel_Type” and “Transmission”) into numerical one hot encoded value."
      ],
      "metadata": {
        "id": "X-qRTl1sTliv"
      }
    },
    {
      "cell_type": "code",
      "source": [
        "# One-hot encode categorical variables\n",
        "df = pd.get_dummies(df, columns=['Fuel_Type', 'Transmission'], drop_first=True)\n",
        "\n",
        "# Check result\n",
        "print(df.head())"
      ],
      "metadata": {
        "colab": {
          "base_uri": "https://localhost:8080/"
        },
        "id": "92G0TvghRjZO",
        "outputId": "5478707f-8466-411b-fe4e-8538fec18aeb"
      },
      "execution_count": 39,
      "outputs": [
        {
          "output_type": "stream",
          "name": "stdout",
          "text": [
            "   Unnamed: 0                              Name    Location  Year  \\\n",
            "0           1  Hyundai Creta 1.6 CRDi SX Option        Pune  2015   \n",
            "1           2                      Honda Jazz V     Chennai  2011   \n",
            "2           3                 Maruti Ertiga VDI     Chennai  2012   \n",
            "3           4   Audi A4 New 2.0 TDI Multitronic  Coimbatore  2013   \n",
            "4           6            Nissan Micra Diesel XV      Jaipur  2013   \n",
            "\n",
            "   Kilometers_Driven Owner_Type  Mileage  Engine   Power  Seats  New_Price  \\\n",
            "0              41000      First    19.67  1582.0  126.20    5.0        NaN   \n",
            "1              46000      First    13.00  1199.0   88.70    5.0   861000.0   \n",
            "2              87000      First    20.77  1248.0   88.76    7.0        NaN   \n",
            "3              40670     Second    15.20  1968.0  140.80    5.0        NaN   \n",
            "4              86999      First    23.08  1461.0   63.10    5.0        NaN   \n",
            "\n",
            "   Price  Fuel_Type_Electric  Fuel_Type_Petrol  Transmission_Manual  \n",
            "0  12.50               False             False                 True  \n",
            "1   4.50               False              True                 True  \n",
            "2   6.00               False             False                 True  \n",
            "3  17.74               False             False                False  \n",
            "4   3.50               False             False                 True  \n"
          ]
        }
      ]
    },
    {
      "cell_type": "markdown",
      "source": [],
      "metadata": {
        "id": "-rMIbnWGSUCO"
      }
    },
    {
      "cell_type": "code",
      "source": [
        "from datetime import datetime\n",
        "\n",
        "# Get current year\n",
        "current_year = datetime.now().year\n",
        "\n",
        "# Add Car_Age to the cleaned dataframe\n",
        "df['Car_Age'] = current_year - df['Year']\n",
        "\n",
        "# Display result\n",
        "print(df[['Car_Age']].head())"
      ],
      "metadata": {
        "colab": {
          "base_uri": "https://localhost:8080/"
        },
        "id": "fL4JCHLrUrUm",
        "outputId": "2926113e-8d84-4b5e-9a0a-ba2f4a051114"
      },
      "execution_count": 44,
      "outputs": [
        {
          "output_type": "stream",
          "name": "stdout",
          "text": [
            "   Car_Age\n",
            "0       10\n",
            "1       14\n",
            "2       13\n",
            "3       12\n",
            "4       12\n"
          ]
        }
      ]
    },
    {
      "cell_type": "markdown",
      "source": [
        "E) Perform select, filter, rename, mutate, arrange and summarize with group by operations (or\n",
        "their equivalent operations in python) on this dataset."
      ],
      "metadata": {
        "id": "02dej5CJVW1C"
      }
    },
    {
      "cell_type": "code",
      "source": [
        "# Select\n",
        "df_selected = df[['Owner_Type', 'Price', 'Mileage']]\n",
        "\n",
        "# Filter\n",
        "df_filtered = df[df['Mileage'] > 25]\n",
        "\n",
        "# Rename\n",
        "df_renamed = df.rename(columns={'Owner_Type': 'Brand', 'Price': 'Car_Price'})\n",
        "\n",
        "# Mutate\n",
        "df['Power_kW'] = df['Power'] * 0.7457\n",
        "\n",
        "# Arrange\n",
        "df_sorted = df.sort_values(by='Price', ascending=False)\n",
        "\n",
        "# Group by and summarize\n",
        "df_summary = df.groupby('Owner_Type')['Mileage'].mean().reset_index()\n",
        "\n",
        "df_summary_multi = df.groupby('Owner_Type').agg(\n",
        "    total_price=('Price', 'sum'),\n",
        "    avg_mileage=('Mileage', 'mean'),\n",
        "    max_power=('Power', 'max')\n",
        ").reset_index()\n",
        "\n",
        "# Show final results\n",
        "print(\"Selected Data:\")\n",
        "print(df_selected)\n",
        "print(\"\\nFiltered Data:\")\n",
        "print(df_filtered)\n",
        "print(\"\\nRenamed Data:\")\n",
        "print(df_renamed)\n",
        "print(\"\\nSorted Data:\")\n",
        "print(df_sorted)\n",
        "print(\"\\nGrouped and Summarized Data:\")\n",
        "print(df_summary_multi)"
      ],
      "metadata": {
        "colab": {
          "base_uri": "https://localhost:8080/"
        },
        "id": "JomWkIGBVWXd",
        "outputId": "e5898554-fde6-4929-8cf0-cfc8e45ece53"
      },
      "execution_count": 46,
      "outputs": [
        {
          "output_type": "stream",
          "name": "stdout",
          "text": [
            "Selected Data:\n",
            "     Owner_Type  Price  Mileage\n",
            "0         First  12.50    19.67\n",
            "1         First   4.50    13.00\n",
            "2         First   6.00    20.77\n",
            "3        Second  17.74    15.20\n",
            "4         First   3.50    23.08\n",
            "...         ...    ...      ...\n",
            "5842      First   4.75    28.40\n",
            "5843      First   4.00    24.40\n",
            "5844     Second   2.90    14.00\n",
            "5845      First   2.65    18.90\n",
            "5846      First   2.50    25.44\n",
            "\n",
            "[5847 rows x 3 columns]\n",
            "\n",
            "Filtered Data:\n",
            "      Unnamed: 0                                       Name    Location  Year  \\\n",
            "10            12                      Maruti Swift VDI BSIV      Jaipur  2015   \n",
            "14            16                      Honda Amaze S i-Dtech       Kochi  2016   \n",
            "15            17                      Maruti Swift DDiS VDI      Jaipur  2017   \n",
            "39            41                            Tata Nano LX SE       Kochi  2014   \n",
            "40            42  Mahindra KUV 100 mFALCON D75 K8 Dual Tone  Coimbatore  2017   \n",
            "...          ...                                        ...         ...   ...   \n",
            "5772        5941                           Renault KWID RXL        Pune  2018   \n",
            "5788        5958                      Honda Amaze S i-Dtech      Jaipur  2015   \n",
            "5841        6013                      Honda Amaze VX i-DTEC  Coimbatore  2015   \n",
            "5842        6014                           Maruti Swift VDI       Delhi  2014   \n",
            "5846        6018                      Chevrolet Beat Diesel   Hyderabad  2011   \n",
            "\n",
            "      Kilometers_Driven Owner_Type  Mileage  Engine  Power  Seats  New_Price  \\\n",
            "10                64424      First    25.20  1248.0   74.0    5.0        NaN   \n",
            "14                58950      First    25.80  1498.0   98.6    5.0        NaN   \n",
            "15                25000      First    28.40  1248.0   74.0    5.0        NaN   \n",
            "39                19698      First    25.40   624.0   37.5    4.0        NaN   \n",
            "40                22033      First    25.32  1198.0   77.0    6.0        NaN   \n",
            "...                 ...        ...      ...     ...    ...    ...        ...   \n",
            "5772               1000      First    25.17   799.0   53.3    5.0   445000.0   \n",
            "5788              91000      First    25.80  1498.0   98.6    5.0        NaN   \n",
            "5841              70602      First    25.80  1498.0   98.6    5.0        NaN   \n",
            "5842              27365      First    28.40  1248.0   74.0    5.0   788000.0   \n",
            "5846              47000      First    25.44   936.0   57.6    5.0        NaN   \n",
            "\n",
            "      Price  Fuel_Type_Electric  Fuel_Type_Petrol  Transmission_Manual  \\\n",
            "10     5.60               False             False                 True   \n",
            "14     5.40               False             False                 True   \n",
            "15     5.99               False             False                 True   \n",
            "39     1.53               False              True                 True   \n",
            "40     5.58               False             False                 True   \n",
            "...     ...                 ...               ...                  ...   \n",
            "5772   3.40               False              True                 True   \n",
            "5788   4.68               False             False                 True   \n",
            "5841   4.83               False             False                 True   \n",
            "5842   4.75               False             False                 True   \n",
            "5846   2.50               False             False                 True   \n",
            "\n",
            "      Car_Age  \n",
            "10         10  \n",
            "14          9  \n",
            "15          8  \n",
            "39         11  \n",
            "40          8  \n",
            "...       ...  \n",
            "5772        7  \n",
            "5788       10  \n",
            "5841       10  \n",
            "5842       11  \n",
            "5846       14  \n",
            "\n",
            "[384 rows x 16 columns]\n",
            "\n",
            "Renamed Data:\n",
            "      Unnamed: 0                              Name    Location  Year  \\\n",
            "0              1  Hyundai Creta 1.6 CRDi SX Option        Pune  2015   \n",
            "1              2                      Honda Jazz V     Chennai  2011   \n",
            "2              3                 Maruti Ertiga VDI     Chennai  2012   \n",
            "3              4   Audi A4 New 2.0 TDI Multitronic  Coimbatore  2013   \n",
            "4              6            Nissan Micra Diesel XV      Jaipur  2013   \n",
            "...          ...                               ...         ...   ...   \n",
            "5842        6014                  Maruti Swift VDI       Delhi  2014   \n",
            "5843        6015          Hyundai Xcent 1.1 CRDi S      Jaipur  2015   \n",
            "5844        6016             Mahindra Xylo D4 BSIV      Jaipur  2012   \n",
            "5845        6017                Maruti Wagon R VXI     Kolkata  2013   \n",
            "5846        6018             Chevrolet Beat Diesel   Hyderabad  2011   \n",
            "\n",
            "      Kilometers_Driven   Brand  Mileage  Engine   Power  Seats  New_Price  \\\n",
            "0                 41000   First    19.67  1582.0  126.20    5.0        NaN   \n",
            "1                 46000   First    13.00  1199.0   88.70    5.0   861000.0   \n",
            "2                 87000   First    20.77  1248.0   88.76    7.0        NaN   \n",
            "3                 40670  Second    15.20  1968.0  140.80    5.0        NaN   \n",
            "4                 86999   First    23.08  1461.0   63.10    5.0        NaN   \n",
            "...                 ...     ...      ...     ...     ...    ...        ...   \n",
            "5842              27365   First    28.40  1248.0   74.00    5.0   788000.0   \n",
            "5843             100000   First    24.40  1120.0   71.00    5.0        NaN   \n",
            "5844              55000  Second    14.00  2498.0  112.00    8.0        NaN   \n",
            "5845              46000   First    18.90   998.0   67.10    5.0        NaN   \n",
            "5846              47000   First    25.44   936.0   57.60    5.0        NaN   \n",
            "\n",
            "      Car_Price  Fuel_Type_Electric  Fuel_Type_Petrol  Transmission_Manual  \\\n",
            "0         12.50               False             False                 True   \n",
            "1          4.50               False              True                 True   \n",
            "2          6.00               False             False                 True   \n",
            "3         17.74               False             False                False   \n",
            "4          3.50               False             False                 True   \n",
            "...         ...                 ...               ...                  ...   \n",
            "5842       4.75               False             False                 True   \n",
            "5843       4.00               False             False                 True   \n",
            "5844       2.90               False             False                 True   \n",
            "5845       2.65               False              True                 True   \n",
            "5846       2.50               False             False                 True   \n",
            "\n",
            "      Car_Age  \n",
            "0          10  \n",
            "1          14  \n",
            "2          13  \n",
            "3          12  \n",
            "4          12  \n",
            "...       ...  \n",
            "5842       11  \n",
            "5843       10  \n",
            "5844       13  \n",
            "5845       12  \n",
            "5846       14  \n",
            "\n",
            "[5847 rows x 16 columns]\n",
            "\n",
            "Sorted Data:\n",
            "      Unnamed: 0                                         Name    Location  \\\n",
            "3952        4079  Land Rover Range Rover 3.0 Diesel LWB Vogue   Hyderabad   \n",
            "5620        5781                   Lamborghini Gallardo Coupe       Delhi   \n",
            "5752        5919                       Jaguar F Type 5.0 V8 S   Hyderabad   \n",
            "1457        1505              Land Rover Range Rover Sport SE       Kochi   \n",
            "1917        1974                           BMW 7 Series 740Li  Coimbatore   \n",
            "...          ...                                          ...         ...   \n",
            "3127        3228                               Maruti 800 Std        Pune   \n",
            "2758        2847                             Hyundai Getz GLS        Pune   \n",
            "3039        3138                               Maruti Zen LXI      Jaipur   \n",
            "1577        1628                         Maruti 800 Std BSIII      Jaipur   \n",
            "1660        1713                                 Tata Nano Lx        Pune   \n",
            "\n",
            "      Year  Kilometers_Driven Owner_Type  Mileage  Engine  Power  Seats  \\\n",
            "3952  2017              25000      First    13.33  2993.0  255.0    5.0   \n",
            "5620  2011               6500      Third     6.40  5204.0  560.0    2.0   \n",
            "5752  2015               8000      First    12.50  5000.0  488.1    2.0   \n",
            "1457  2019              26013      First    12.65  2993.0  255.0    5.0   \n",
            "1917  2018              28060      First    12.05  2979.0  320.0    5.0   \n",
            "...    ...                ...        ...      ...     ...    ...    ...   \n",
            "3127  2003              52000      First    16.10   796.0   37.0    4.0   \n",
            "2758  2005              86000     Second    15.30  1341.0   83.0    5.0   \n",
            "3039  1998              95150      Third    17.30   993.0   60.0    5.0   \n",
            "1577  2004              12000     Second    16.10   796.0   37.0    4.0   \n",
            "1660  2011              65000     Second    26.00   624.0   35.0    4.0   \n",
            "\n",
            "      New_Price   Price  Fuel_Type_Electric  Fuel_Type_Petrol  \\\n",
            "3952        NaN  160.00               False             False   \n",
            "5620        NaN  120.00               False              True   \n",
            "5752        NaN  100.00               False              True   \n",
            "1457        NaN   97.07               False             False   \n",
            "1917        NaN   93.67               False              True   \n",
            "...         ...     ...                 ...               ...   \n",
            "3127        NaN    0.50               False              True   \n",
            "2758        NaN    0.45               False              True   \n",
            "3039        NaN    0.45               False              True   \n",
            "1577        NaN    0.45               False              True   \n",
            "1660        NaN    0.44               False              True   \n",
            "\n",
            "      Transmission_Manual  Car_Age   Power_kW  \n",
            "3952                False        8  190.15350  \n",
            "5620                False       14  417.59200  \n",
            "5752                False       10  363.97617  \n",
            "1457                False        6  190.15350  \n",
            "1917                False        7  238.62400  \n",
            "...                   ...      ...        ...  \n",
            "3127                 True       22   27.59090  \n",
            "2758                 True       20   61.89310  \n",
            "3039                 True       27   44.74200  \n",
            "1577                 True       21   27.59090  \n",
            "1660                 True       14   26.09950  \n",
            "\n",
            "[5847 rows x 17 columns]\n",
            "\n",
            "Grouped and Summarized Data:\n",
            "       Owner_Type  total_price  avg_mileage  max_power\n",
            "0           First     48615.52    18.454201      552.0\n",
            "1  Fourth & Above        27.32    13.862500      163.5\n",
            "2          Second      7251.74    16.914411      550.0\n",
            "3           Third       550.85    15.853398      560.0\n"
          ]
        }
      ]
    }
  ]
}